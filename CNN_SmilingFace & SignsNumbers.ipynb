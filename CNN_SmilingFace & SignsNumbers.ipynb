{
 "cells": [
  {
   "cell_type": "markdown",
   "id": "1beede23",
   "metadata": {},
   "source": [
    "# Convolutional Neural Networks: Applications"
   ]
  },
  {
   "cell_type": "markdown",
   "id": "2bada957",
   "metadata": {},
   "source": [
    "## 1 - Packages\n"
   ]
  },
  {
   "cell_type": "code",
   "execution_count": 1,
   "id": "69e2ae9b",
   "metadata": {},
   "outputs": [
    {
     "name": "stderr",
     "output_type": "stream",
     "text": [
      "2021-10-13 02:29:36.723827: W tensorflow/stream_executor/platform/default/dso_loader.cc:64] Could not load dynamic library 'libcudart.so.11.0'; dlerror: libcudart.so.11.0: cannot open shared object file: No such file or directory; LD_LIBRARY_PATH: /usr/local/cuda-11.2/targets/x86_64-linux/lib/:/opt/oracle:/opt/oracle/lib/::\n",
      "2021-10-13 02:29:36.723848: I tensorflow/stream_executor/cuda/cudart_stub.cc:29] Ignore above cudart dlerror if you do not have a GPU set up on your machine.\n"
     ]
    }
   ],
   "source": [
    "import math\n",
    "import numpy as np\n",
    "import h5py\n",
    "import matplotlib.pyplot as plt\n",
    "import scipy\n",
    "from PIL import Image\n",
    "import pandas as pd\n",
    "import tensorflow as tf\n",
    "import tensorflow.keras.layers as tfl\n",
    "from sklearn.model_selection import train_test_split\n",
    "\n",
    "%matplotlib inline\n",
    "np.random.seed(1)"
   ]
  },
  {
   "cell_type": "markdown",
   "id": "ef3145bd",
   "metadata": {},
   "source": [
    "## 2 - First Problem: Detecting smilling faces (Using Sequantial API)"
   ]
  },
  {
   "cell_type": "markdown",
   "id": "bd2fe785",
   "metadata": {},
   "source": [
    "In this problem, Bob wan't to open his door only to smilling people. So, we will use a basic CNN to detect if a person in front of Bob's door is smilling to allow him to enter."
   ]
  },
  {
   "cell_type": "markdown",
   "id": "e90e6098",
   "metadata": {},
   "source": [
    "### 2.1 - Load the Data and Split the Data into Train/Test Sets"
   ]
  },
  {
   "cell_type": "markdown",
   "id": "d073992e",
   "metadata": {},
   "source": [
    "Preprocessing the data .."
   ]
  },
  {
   "cell_type": "code",
   "execution_count": 2,
   "id": "76a6ea41",
   "metadata": {},
   "outputs": [],
   "source": [
    "def load_happy_dataset():\n",
    "    #The data is stocked in h5 files\n",
    "    train_dataset = h5py.File('datasets/train_happy.h5', \"r\")\n",
    "    train_set_x_orig = np.array(train_dataset[\"train_set_x\"][:]) # our train set features\n",
    "    train_set_y_orig = np.array(train_dataset[\"train_set_y\"][:]) # our train set labels\n",
    "\n",
    "    test_dataset = h5py.File('datasets/test_happy.h5', \"r\")\n",
    "    test_set_x_orig = np.array(test_dataset[\"test_set_x\"][:]) # our test set features\n",
    "    test_set_y_orig = np.array(test_dataset[\"test_set_y\"][:]) # our test set labels\n",
    "\n",
    "    classes = np.array(test_dataset[\"list_classes\"][:]) # the list of classes\n",
    "    \n",
    "    train_set_y_orig = train_set_y_orig.reshape((1, train_set_y_orig.shape[0]))\n",
    "    test_set_y_orig = test_set_y_orig.reshape((1, test_set_y_orig.shape[0]))\n",
    "    \n",
    "    return train_set_x_orig, train_set_y_orig, test_set_x_orig, test_set_y_orig, classes"
   ]
  },
  {
   "cell_type": "code",
   "execution_count": 3,
   "id": "a57070ec",
   "metadata": {},
   "outputs": [
    {
     "name": "stdout",
     "output_type": "stream",
     "text": [
      "number of training examples = 600\n",
      "number of test examples = 150\n",
      "X_train shape: (600, 64, 64, 3)\n",
      "Y_train shape: (600, 1)\n",
      "X_test shape: (150, 64, 64, 3)\n",
      "Y_test shape: (150, 1)\n",
      "The outout is in:  [0 1]\n"
     ]
    }
   ],
   "source": [
    "X_train_orig, Y_train_orig, X_test_orig, Y_test_orig, classes = load_happy_dataset()\n",
    "\n",
    "# Normalize image vectors\n",
    "X_train = X_train_orig/255.\n",
    "X_test = X_test_orig/255.\n",
    "\n",
    "# Reshape\n",
    "Y_train = Y_train_orig.T\n",
    "Y_test = Y_test_orig.T\n",
    "\n",
    "print (\"number of training examples = \" + str(X_train.shape[0]))\n",
    "print (\"number of test examples = \" + str(X_test.shape[0]))\n",
    "print (\"X_train shape: \" + str(X_train.shape))\n",
    "print (\"Y_train shape: \" + str(Y_train.shape))\n",
    "print (\"X_test shape: \" + str(X_test.shape))\n",
    "print (\"Y_test shape: \" + str(Y_test.shape))\n",
    "print(\"The outout is in: \", classes)"
   ]
  },
  {
   "cell_type": "markdown",
   "id": "db8f9835",
   "metadata": {},
   "source": [
    "### 2.2 - Example from the dataset "
   ]
  },
  {
   "cell_type": "code",
   "execution_count": 4,
   "id": "27b811f2",
   "metadata": {},
   "outputs": [
    {
     "data": {
      "image/png": "[encoded data removed]",
      "text/plain": [
       "<Figure size 432x288 with 1 Axes>"
      ]
     },
     "metadata": {
      "needs_background": "light"
     },
     "output_type": "display_data"
    },
    {
     "name": "stdout",
     "output_type": "stream",
     "text": [
      "The person in the image is not smiling .\n"
     ]
    }
   ],
   "source": [
    "index = np.random.randint(X_train.shape[0])\n",
    "plt.imshow(X_train_orig[index]) #display sample training image\n",
    "plt.show()\n",
    "states = {0: \"not smiling\", 1: \"smilling\"}\n",
    "print(\"The person in the image is\", states[Y_train_orig[0][index]],\".\")"
   ]
  },
  {
   "cell_type": "markdown",
   "id": "58f14e36",
   "metadata": {},
   "source": [
    "### 2-2 Our Happy Model"
   ]
  },
  {
   "cell_type": "code",
   "execution_count": 5,
   "id": "c3fb8a67",
   "metadata": {},
   "outputs": [],
   "source": [
    "def happyModel():\n",
    "    \"\"\"\n",
    "    Implements the forward propagation for the binary classification model\n",
    "    Arguments:\n",
    "    None\n",
    "\n",
    "    Returns:\n",
    "    model -- TF Keras model\n",
    "    \"\"\"\n",
    "    model = tf.keras.Sequential([\n",
    "            tfl.InputLayer((64, 64, 3)),\n",
    "            ## ZeroPadding2D with padding 3, input shape of 64 x 64 x 3\n",
    "            tfl.ZeroPadding2D(padding=3),\n",
    "            ## Conv2D with 32 7x7 filters and stride of 1\n",
    "            tfl.Conv2D(32, 7, strides=1),\n",
    "            ## BatchNormalization for axis 3\n",
    "            tfl.BatchNormalization(axis=3),\n",
    "            ## ReLU\n",
    "            tfl.ReLU(),\n",
    "            ## Max Pooling 2D with default parameters\n",
    "            tfl.MaxPool2D(),\n",
    "            ## Flatten layer\n",
    "            tfl.Flatten(),\n",
    "            ## Dense layer with 1 unit for output & 'sigmoid' activation\n",
    "            tfl.Dense(1, activation=\"sigmoid\")\n",
    "        ])\n",
    "    \n",
    "    return model"
   ]
  },
  {
   "cell_type": "code",
   "execution_count": 6,
   "id": "aea81354",
   "metadata": {},
   "outputs": [
    {
     "name": "stdout",
     "output_type": "stream",
     "text": [
      "Model: \"sequential\"\n",
      "_________________________________________________________________\n",
      "Layer (type)                 Output Shape              Param #   \n",
      "=================================================================\n",
      "zero_padding2d (ZeroPadding2 (None, 70, 70, 3)         0         \n",
      "_________________________________________________________________\n",
      "conv2d (Conv2D)              (None, 64, 64, 32)        4736      \n",
      "_________________________________________________________________\n",
      "batch_normalization (BatchNo (None, 64, 64, 32)        128       \n",
      "_________________________________________________________________\n",
      "re_lu (ReLU)                 (None, 64, 64, 32)        0         \n",
      "_________________________________________________________________\n",
      "max_pooling2d (MaxPooling2D) (None, 32, 32, 32)        0         \n",
      "_________________________________________________________________\n",
      "flatten (Flatten)            (None, 32768)             0         \n",
      "_________________________________________________________________\n",
      "dense (Dense)                (None, 1)                 32769     \n",
      "=================================================================\n",
      "Total params: 37,633\n",
      "Trainable params: 37,569\n",
      "Non-trainable params: 64\n",
      "_________________________________________________________________\n"
     ]
    },
    {
     "name": "stderr",
     "output_type": "stream",
     "text": [
      "2021-10-13 02:29:44.774105: W tensorflow/stream_executor/platform/default/dso_loader.cc:64] Could not load dynamic library 'libcuda.so.1'; dlerror: libcuda.so.1: cannot open shared object file: No such file or directory; LD_LIBRARY_PATH: /usr/local/cuda-11.2/targets/x86_64-linux/lib/:/opt/oracle:/opt/oracle/lib/::\n",
      "2021-10-13 02:29:44.774141: W tensorflow/stream_executor/cuda/cuda_driver.cc:326] failed call to cuInit: UNKNOWN ERROR (303)\n",
      "2021-10-13 02:29:44.774167: I tensorflow/stream_executor/cuda/cuda_diagnostics.cc:156] kernel driver does not appear to be running on this host (linux): /proc/driver/nvidia/version does not exist\n",
      "2021-10-13 02:29:44.774426: I tensorflow/core/platform/cpu_feature_guard.cc:142] This TensorFlow binary is optimized with oneAPI Deep Neural Network Library (oneDNN) to use the following CPU instructions in performance-critical operations:  AVX2 FMA\n",
      "To enable them in other operations, rebuild TensorFlow with the appropriate compiler flags.\n"
     ]
    }
   ],
   "source": [
    "happy_model = happyModel()\n",
    "happy_model.summary()"
   ]
  },
  {
   "cell_type": "code",
   "execution_count": 7,
   "id": "1e90c125",
   "metadata": {},
   "outputs": [],
   "source": [
    "happy_model.compile(optimizer='adam',\n",
    "                   loss='binary_crossentropy',\n",
    "                   metrics=['accuracy'])"
   ]
  },
  {
   "cell_type": "code",
   "execution_count": 8,
   "id": "23a05463",
   "metadata": {},
   "outputs": [
    {
     "name": "stdout",
     "output_type": "stream",
     "text": [
      "Shape of the training set before spliting: (600, 64, 64, 3)\n",
      "Shape of the training set labels before spliting: (600, 1)\n",
      "Shape of the training set after spliting: (468, 64, 64, 3)\n",
      "Shape of the validation set labels after spliting: (468, 1)\n",
      "Shape of the training set after spliting: (132, 64, 64, 3)\n"
     ]
    }
   ],
   "source": [
    "print(\"Shape of the training set before spliting:\",X_train.shape)\n",
    "print(\"Shape of the training set labels before spliting:\", Y_train.shape)\n",
    "X_train, X_val, Y_train, Y_val = train_test_split(X_train, Y_train, test_size=0.22, shuffle = True)\n",
    "print(\"Shape of the training set after spliting:\",X_train.shape)\n",
    "print(\"Shape of the validation set labels after spliting:\", Y_train.shape)\n",
    "print(\"Shape of the training set after spliting:\",X_val.shape)"
   ]
  },
  {
   "cell_type": "markdown",
   "id": "2c05dd11",
   "metadata": {},
   "source": [
    "Training the model .."
   ]
  },
  {
   "cell_type": "code",
   "execution_count": 9,
   "id": "a83359ef",
   "metadata": {},
   "outputs": [
    {
     "name": "stdout",
     "output_type": "stream",
     "text": [
      "Epoch 1/30\n"
     ]
    },
    {
     "name": "stderr",
     "output_type": "stream",
     "text": [
      "2021-10-13 02:29:54.163576: I tensorflow/compiler/mlir/mlir_graph_optimization_pass.cc:176] None of the MLIR Optimization Passes are enabled (registered 2)\n",
      "2021-10-13 02:29:54.182743: I tensorflow/core/platform/profile_utils/cpu_utils.cc:114] CPU Frequency: 2199995000 Hz\n"
     ]
    },
    {
     "name": "stdout",
     "output_type": "stream",
     "text": [
      "8/8 [==============================] - 2s 176ms/step - loss: 3.9636 - accuracy: 0.5064 - val_loss: 0.8073 - val_accuracy: 0.4697\n",
      "Epoch 2/30\n",
      "8/8 [==============================] - 1s 159ms/step - loss: 2.1017 - accuracy: 0.5556 - val_loss: 0.5551 - val_accuracy: 0.7424\n",
      "Epoch 3/30\n",
      "8/8 [==============================] - 1s 160ms/step - loss: 0.9573 - accuracy: 0.6966 - val_loss: 0.6274 - val_accuracy: 0.7348\n",
      "Epoch 4/30\n",
      "8/8 [==============================] - 1s 165ms/step - loss: 0.7574 - accuracy: 0.7650 - val_loss: 0.5007 - val_accuracy: 0.7500\n",
      "Epoch 5/30\n",
      "8/8 [==============================] - 1s 162ms/step - loss: 0.3248 - accuracy: 0.8974 - val_loss: 0.6547 - val_accuracy: 0.5833\n",
      "Epoch 6/30\n",
      "8/8 [==============================] - 1s 161ms/step - loss: 0.1963 - accuracy: 0.9145 - val_loss: 0.6676 - val_accuracy: 0.5833\n",
      "Epoch 7/30\n",
      "8/8 [==============================] - 1s 156ms/step - loss: 0.1965 - accuracy: 0.9252 - val_loss: 0.5384 - val_accuracy: 0.6591\n",
      "Epoch 8/30\n",
      "8/8 [==============================] - 1s 173ms/step - loss: 0.1971 - accuracy: 0.9380 - val_loss: 0.4659 - val_accuracy: 0.7500\n",
      "Epoch 9/30\n",
      "8/8 [==============================] - 1s 169ms/step - loss: 0.1777 - accuracy: 0.9359 - val_loss: 0.4559 - val_accuracy: 0.7803\n",
      "Epoch 10/30\n",
      "8/8 [==============================] - 1s 158ms/step - loss: 0.1298 - accuracy: 0.9551 - val_loss: 0.4491 - val_accuracy: 0.7803\n",
      "Epoch 11/30\n",
      "8/8 [==============================] - 1s 161ms/step - loss: 0.1068 - accuracy: 0.9658 - val_loss: 0.4230 - val_accuracy: 0.8409\n",
      "Epoch 12/30\n",
      "8/8 [==============================] - 1s 157ms/step - loss: 0.1006 - accuracy: 0.9679 - val_loss: 0.3895 - val_accuracy: 0.8712\n",
      "Epoch 13/30\n",
      "8/8 [==============================] - 1s 159ms/step - loss: 0.0966 - accuracy: 0.9701 - val_loss: 0.3482 - val_accuracy: 0.8939\n",
      "Epoch 14/30\n",
      "8/8 [==============================] - 1s 159ms/step - loss: 0.0980 - accuracy: 0.9722 - val_loss: 0.3288 - val_accuracy: 0.9091\n",
      "Epoch 15/30\n",
      "8/8 [==============================] - 1s 173ms/step - loss: 0.0931 - accuracy: 0.9744 - val_loss: 0.3183 - val_accuracy: 0.9242\n",
      "Epoch 16/30\n",
      "8/8 [==============================] - 1s 161ms/step - loss: 0.0834 - accuracy: 0.9786 - val_loss: 0.3157 - val_accuracy: 0.9318\n",
      "Epoch 17/30\n",
      "8/8 [==============================] - 1s 158ms/step - loss: 0.0757 - accuracy: 0.9786 - val_loss: 0.3085 - val_accuracy: 0.9394\n",
      "Epoch 18/30\n",
      "8/8 [==============================] - 1s 161ms/step - loss: 0.0699 - accuracy: 0.9808 - val_loss: 0.2952 - val_accuracy: 0.9394\n",
      "Epoch 19/30\n",
      "8/8 [==============================] - 1s 157ms/step - loss: 0.0729 - accuracy: 0.9808 - val_loss: 0.2886 - val_accuracy: 0.9394\n",
      "Epoch 20/30\n",
      "8/8 [==============================] - 1s 158ms/step - loss: 0.0704 - accuracy: 0.9808 - val_loss: 0.2711 - val_accuracy: 0.9318\n",
      "Epoch 21/30\n",
      "8/8 [==============================] - 1s 173ms/step - loss: 0.0705 - accuracy: 0.9850 - val_loss: 0.2478 - val_accuracy: 0.9318\n",
      "Epoch 22/30\n",
      "8/8 [==============================] - 1s 165ms/step - loss: 0.0723 - accuracy: 0.9765 - val_loss: 0.2451 - val_accuracy: 0.9318\n",
      "Epoch 23/30\n",
      "8/8 [==============================] - 1s 163ms/step - loss: 0.0619 - accuracy: 0.9829 - val_loss: 0.2327 - val_accuracy: 0.9470\n",
      "Epoch 24/30\n",
      "8/8 [==============================] - 1s 160ms/step - loss: 0.0474 - accuracy: 0.9915 - val_loss: 0.2357 - val_accuracy: 0.9470\n",
      "Epoch 25/30\n",
      "8/8 [==============================] - 1s 158ms/step - loss: 0.0421 - accuracy: 0.9936 - val_loss: 0.2246 - val_accuracy: 0.9545\n",
      "Epoch 26/30\n",
      "8/8 [==============================] - 1s 161ms/step - loss: 0.0393 - accuracy: 0.9936 - val_loss: 0.2106 - val_accuracy: 0.9621\n",
      "Epoch 27/30\n",
      "8/8 [==============================] - 1s 159ms/step - loss: 0.0379 - accuracy: 0.9936 - val_loss: 0.2004 - val_accuracy: 0.9621\n",
      "Epoch 28/30\n",
      "8/8 [==============================] - 1s 162ms/step - loss: 0.0366 - accuracy: 0.9936 - val_loss: 0.1953 - val_accuracy: 0.9621\n",
      "Epoch 29/30\n",
      "8/8 [==============================] - 1s 158ms/step - loss: 0.0349 - accuracy: 0.9936 - val_loss: 0.1850 - val_accuracy: 0.9621\n",
      "Epoch 30/30\n",
      "8/8 [==============================] - 1s 161ms/step - loss: 0.0324 - accuracy: 0.9936 - val_loss: 0.1848 - val_accuracy: 0.9621\n"
     ]
    }
   ],
   "source": [
    "train_dataset = tf.data.Dataset.from_tensor_slices((X_train, Y_train)).batch(64)\n",
    "val_dataset = tf.data.Dataset.from_tensor_slices((X_val, Y_val)).batch(64)\n",
    "history = happy_model.fit(train_dataset, epochs=30, validation_data=val_dataset)"
   ]
  },
  {
   "cell_type": "code",
   "execution_count": 10,
   "id": "1d0ae6a4",
   "metadata": {
    "scrolled": true
   },
   "outputs": [
    {
     "name": "stderr",
     "output_type": "stream",
     "text": [
      "/usr/local/lib/python3.8/dist-packages/pandas/core/frame.py:5034: SettingWithCopyWarning: \n",
      "A value is trying to be set on a copy of a slice from a DataFrame\n",
      "\n",
      "See the caveats in the documentation: https://pandas.pydata.org/pandas-docs/stable/user_guide/indexing.html#returning-a-view-versus-a-copy\n",
      "  return super().rename(\n"
     ]
    },
    {
     "data": {
      "text/plain": [
       "[Text(0, 0.5, 'Accuracy'), Text(0.5, 0, 'Epoch')]"
      ]
     },
     "execution_count": 10,
     "metadata": {},
     "output_type": "execute_result"
    },
    {
     "data": {
      "image/png": "[encoded data removed]",
      "text/plain": [
       "<Figure size 432x288 with 1 Axes>"
      ]
     },
     "metadata": {
      "needs_background": "light"
     },
     "output_type": "display_data"
    },
    {
     "data": {
      "image/png": "[encoded data removed]",
      "text/plain": [
       "<Figure size 432x288 with 1 Axes>"
      ]
     },
     "metadata": {
      "needs_background": "light"
     },
     "output_type": "display_data"
    }
   ],
   "source": [
    "df_loss_acc = pd.DataFrame(history.history)\n",
    "df_loss= df_loss_acc[['loss','val_loss']]\n",
    "df_loss.rename(columns={'loss':'train','val_loss':'validation'},inplace=True)\n",
    "df_acc= df_loss_acc[['accuracy','val_accuracy']]\n",
    "df_acc.rename(columns={'accuracy':'train','val_accuracy':'validation'},inplace=True)\n",
    "df_loss.plot(title='Model loss').set(xlabel='Epoch',ylabel='Loss')\n",
    "df_acc.plot(title='Model Accuracy').set(xlabel='Epoch',ylabel='Accuracy')"
   ]
  },
  {
   "cell_type": "code",
   "execution_count": 11,
   "id": "422954dc",
   "metadata": {},
   "outputs": [
    {
     "name": "stdout",
     "output_type": "stream",
     "text": [
      "5/5 [==============================] - 0s 19ms/step - loss: 0.2076 - accuracy: 0.9533\n"
     ]
    },
    {
     "data": {
      "text/plain": [
       "[0.20761486887931824, 0.95333331823349]"
      ]
     },
     "execution_count": 11,
     "metadata": {},
     "output_type": "execute_result"
    }
   ],
   "source": [
    "happy_model.evaluate(X_test, Y_test)"
   ]
  },
  {
   "cell_type": "markdown",
   "id": "97640f86",
   "metadata": {},
   "source": [
    "Our model is predicting correctly 95 % of our test set, which is very accurate."
   ]
  },
  {
   "cell_type": "markdown",
   "id": "bc70151b",
   "metadata": {},
   "source": [
    "## 3 - Second Problem: Sign language digits (with Functional API)"
   ]
  },
  {
   "cell_type": "markdown",
   "id": "063140b0",
   "metadata": {},
   "source": [
    "We will use Keras flexible Functional API to build a CNN that can differentiate between 6 sign language digits. "
   ]
  },
  {
   "cell_type": "markdown",
   "id": "bfa42dcd",
   "metadata": {},
   "source": [
    "### 3-1 Load the Data and Split the Data into Train/Test Sets"
   ]
  },
  {
   "cell_type": "code",
   "execution_count": 12,
   "id": "e5d73c47",
   "metadata": {},
   "outputs": [],
   "source": [
    "def load_signs_dataset():\n",
    "    train_dataset = h5py.File('datasets/train_signs.h5', \"r\")\n",
    "    train_set_x_orig = np.array(train_dataset[\"train_set_x\"][:]) # our train set features\n",
    "    train_set_y_orig = np.array(train_dataset[\"train_set_y\"][:]) # out train set labels\n",
    "\n",
    "    test_dataset = h5py.File('datasets/test_signs.h5', \"r\")\n",
    "    test_set_x_orig = np.array(test_dataset[\"test_set_x\"][:]) # our test set features\n",
    "    test_set_y_orig = np.array(test_dataset[\"test_set_y\"][:]) # our test set labels\n",
    "\n",
    "    classes = np.array(test_dataset[\"list_classes\"][:]) # the list of classes\n",
    "    \n",
    "    train_set_y_orig = train_set_y_orig.reshape((1, train_set_y_orig.shape[0]))\n",
    "    test_set_y_orig = test_set_y_orig.reshape((1, test_set_y_orig.shape[0]))\n",
    "    \n",
    "    return train_set_x_orig, train_set_y_orig, test_set_x_orig, test_set_y_orig, classes\n",
    "\n",
    "def convert_to_one_hot(Y, C):\n",
    "    Y = np.eye(C)[Y.reshape(-1)].T\n",
    "    return Y"
   ]
  },
  {
   "cell_type": "code",
   "execution_count": 13,
   "id": "ad1ac3e8",
   "metadata": {},
   "outputs": [
    {
     "name": "stdout",
     "output_type": "stream",
     "text": [
      "number of training examples = 1080\n",
      "number of test examples = 120\n",
      "X_train shape: (1080, 64, 64, 3)\n",
      "Y_train shape: (1080, 6)\n",
      "X_test shape: (120, 64, 64, 3)\n",
      "Y_test shape: (120, 6)\n"
     ]
    }
   ],
   "source": [
    "X_train_orig, Y_train_orig, X_test_orig, Y_test_orig, classes = load_signs_dataset()\n",
    "X_train = X_train_orig/255.\n",
    "X_test = X_test_orig/255.\n",
    "Y_train = convert_to_one_hot(Y_train_orig, 6).T\n",
    "Y_test = convert_to_one_hot(Y_test_orig, 6).T\n",
    "print (\"number of training examples = \" + str(X_train.shape[0]))\n",
    "print (\"number of test examples = \" + str(X_test.shape[0]))\n",
    "print (\"X_train shape: \" + str(X_train.shape))\n",
    "print (\"Y_train shape: \" + str(Y_train.shape))\n",
    "print (\"X_test shape: \" + str(X_test.shape))\n",
    "print (\"Y_test shape: \" + str(Y_test.shape))"
   ]
  },
  {
   "cell_type": "markdown",
   "id": "eb149b9b",
   "metadata": {},
   "source": [
    "### 3.2 - Example from the dataset"
   ]
  },
  {
   "cell_type": "code",
   "execution_count": 17,
   "id": "8008df94",
   "metadata": {},
   "outputs": [
    {
     "name": "stdout",
     "output_type": "stream",
     "text": [
      "y = 4\n"
     ]
    },
    {
     "data": {
      "image/png": "[encoded data removed]",
      "text/plain": [
       "<Figure size 432x288 with 1 Axes>"
      ]
     },
     "metadata": {
      "needs_background": "light"
     },
     "output_type": "display_data"
    }
   ],
   "source": [
    "index = np.random.randint(X_train.shape[0])\n",
    "plt.imshow(X_train_orig[index])\n",
    "print (\"y = \" + str(np.squeeze(Y_train_orig[:, index])))"
   ]
  },
  {
   "cell_type": "code",
   "execution_count": 18,
   "id": "e4f9ea8d",
   "metadata": {},
   "outputs": [],
   "source": [
    "def convolutional_model(input_shape):\n",
    "    \"\"\"\n",
    "    Implements the forward propagation for the model:\n",
    "    \n",
    "    Arguments:\n",
    "    input_img -- input dataset\n",
    "\n",
    "    Returns:\n",
    "    model -- TF Keras model (object containing the information for the entire training process) \n",
    "    \"\"\"\n",
    "\n",
    "    input_img = tf.keras.Input(shape=input_shape)\n",
    "    ## CONV2D: 8 filters 4x4, stride of 1, padding 'SAME'\n",
    "    Z1 = tfl.Conv2D(8, 4, strides=1, padding = 'same')(input_img)\n",
    "    ## RELU\n",
    "    A1 = tfl.ReLU()(Z1)\n",
    "    ## MAXPOOL: window 8x8, stride 8, padding 'SAME'\n",
    "    P1 = tfl.MaxPool2D(pool_size=8, strides=8, padding='same')(A1)\n",
    "    ## CONV2D: 16 filters 2x2, stride 1, padding 'SAME'\n",
    "    Z2 = tfl.Conv2D(16, 2, strides=1, padding = 'same')(P1)\n",
    "    ## RELU\n",
    "    A2 = tfl.ReLU()(Z2)\n",
    "    ## MAXPOOL: window 4x4, stride 4, padding 'SAME'\n",
    "    P2 = tfl.MaxPool2D(pool_size=4, strides=4, padding='same')(A2)\n",
    "    ## FLATTEN\n",
    "    F = tfl.Flatten()(P2)\n",
    "    ## Dense layer\n",
    "    ## 6 neurons in output layer.\n",
    "    outputs = tfl.Dense(6, activation='softmax')(F)\n",
    "\n",
    "    model = tf.keras.Model(inputs=input_img, outputs=outputs)\n",
    "    return model"
   ]
  },
  {
   "cell_type": "code",
   "execution_count": 19,
   "id": "78a8e967",
   "metadata": {},
   "outputs": [
    {
     "name": "stdout",
     "output_type": "stream",
     "text": [
      "Model: \"model\"\n",
      "_________________________________________________________________\n",
      "Layer (type)                 Output Shape              Param #   \n",
      "=================================================================\n",
      "input_2 (InputLayer)         [(None, 64, 64, 3)]       0         \n",
      "_________________________________________________________________\n",
      "conv2d_1 (Conv2D)            (None, 64, 64, 8)         392       \n",
      "_________________________________________________________________\n",
      "re_lu_1 (ReLU)               (None, 64, 64, 8)         0         \n",
      "_________________________________________________________________\n",
      "max_pooling2d_1 (MaxPooling2 (None, 8, 8, 8)           0         \n",
      "_________________________________________________________________\n",
      "conv2d_2 (Conv2D)            (None, 8, 8, 16)          528       \n",
      "_________________________________________________________________\n",
      "re_lu_2 (ReLU)               (None, 8, 8, 16)          0         \n",
      "_________________________________________________________________\n",
      "max_pooling2d_2 (MaxPooling2 (None, 2, 2, 16)          0         \n",
      "_________________________________________________________________\n",
      "flatten_1 (Flatten)          (None, 64)                0         \n",
      "_________________________________________________________________\n",
      "dense_1 (Dense)              (None, 6)                 390       \n",
      "=================================================================\n",
      "Total params: 1,310\n",
      "Trainable params: 1,310\n",
      "Non-trainable params: 0\n",
      "_________________________________________________________________\n"
     ]
    }
   ],
   "source": [
    "conv_model = convolutional_model((64, 64, 3))\n",
    "conv_model.compile(optimizer='adam',\n",
    "                  loss='categorical_crossentropy',\n",
    "                  metrics=['accuracy'])\n",
    "conv_model.summary()"
   ]
  },
  {
   "cell_type": "code",
   "execution_count": 20,
   "id": "5e854de4",
   "metadata": {},
   "outputs": [
    {
     "name": "stdout",
     "output_type": "stream",
     "text": [
      "Epoch 1/100\n",
      "17/17 [==============================] - 1s 40ms/step - loss: 1.8018 - accuracy: 0.1769 - val_loss: 1.7887 - val_accuracy: 0.1917\n",
      "Epoch 2/100\n",
      "17/17 [==============================] - 1s 35ms/step - loss: 1.7875 - accuracy: 0.1907 - val_loss: 1.7853 - val_accuracy: 0.1583\n",
      "Epoch 3/100\n",
      "17/17 [==============================] - 1s 35ms/step - loss: 1.7845 - accuracy: 0.2093 - val_loss: 1.7833 - val_accuracy: 0.2917\n",
      "Epoch 4/100\n",
      "17/17 [==============================] - 1s 35ms/step - loss: 1.7807 - accuracy: 0.2500 - val_loss: 1.7797 - val_accuracy: 0.2167\n",
      "Epoch 5/100\n",
      "17/17 [==============================] - 1s 36ms/step - loss: 1.7764 - accuracy: 0.2611 - val_loss: 1.7758 - val_accuracy: 0.2833\n",
      "Epoch 6/100\n",
      "17/17 [==============================] - 1s 34ms/step - loss: 1.7704 - accuracy: 0.2981 - val_loss: 1.7711 - val_accuracy: 0.2250\n",
      "Epoch 7/100\n",
      "17/17 [==============================] - 1s 35ms/step - loss: 1.7633 - accuracy: 0.3111 - val_loss: 1.7640 - val_accuracy: 0.2583\n",
      "Epoch 8/100\n",
      "17/17 [==============================] - 1s 53ms/step - loss: 1.7540 - accuracy: 0.3500 - val_loss: 1.7559 - val_accuracy: 0.2750\n",
      "Epoch 9/100\n",
      "17/17 [==============================] - 1s 44ms/step - loss: 1.7425 - accuracy: 0.3824 - val_loss: 1.7437 - val_accuracy: 0.3333\n",
      "Epoch 10/100\n",
      "17/17 [==============================] - 1s 48ms/step - loss: 1.7269 - accuracy: 0.3796 - val_loss: 1.7272 - val_accuracy: 0.3500\n",
      "Epoch 11/100\n",
      "17/17 [==============================] - 1s 50ms/step - loss: 1.7058 - accuracy: 0.4259 - val_loss: 1.7074 - val_accuracy: 0.4167\n",
      "Epoch 12/100\n",
      "17/17 [==============================] - 1s 46ms/step - loss: 1.6793 - accuracy: 0.4574 - val_loss: 1.6822 - val_accuracy: 0.3833\n",
      "Epoch 13/100\n",
      "17/17 [==============================] - 1s 38ms/step - loss: 1.6472 - accuracy: 0.4657 - val_loss: 1.6511 - val_accuracy: 0.4000\n",
      "Epoch 14/100\n",
      "17/17 [==============================] - 1s 36ms/step - loss: 1.6064 - accuracy: 0.4741 - val_loss: 1.6137 - val_accuracy: 0.4250\n",
      "Epoch 15/100\n",
      "17/17 [==============================] - 1s 37ms/step - loss: 1.5586 - accuracy: 0.4954 - val_loss: 1.5737 - val_accuracy: 0.4083\n",
      "Epoch 16/100\n",
      "17/17 [==============================] - 1s 41ms/step - loss: 1.5053 - accuracy: 0.4963 - val_loss: 1.5248 - val_accuracy: 0.4167\n",
      "Epoch 17/100\n",
      "17/17 [==============================] - 1s 38ms/step - loss: 1.4453 - accuracy: 0.5167 - val_loss: 1.4698 - val_accuracy: 0.4667\n",
      "Epoch 18/100\n",
      "17/17 [==============================] - 1s 39ms/step - loss: 1.3837 - accuracy: 0.5500 - val_loss: 1.4159 - val_accuracy: 0.5000\n",
      "Epoch 19/100\n",
      "17/17 [==============================] - 1s 38ms/step - loss: 1.3241 - accuracy: 0.5713 - val_loss: 1.3650 - val_accuracy: 0.5083\n",
      "Epoch 20/100\n",
      "17/17 [==============================] - 1s 39ms/step - loss: 1.2670 - accuracy: 0.5833 - val_loss: 1.3150 - val_accuracy: 0.5167\n",
      "Epoch 21/100\n",
      "17/17 [==============================] - 1s 38ms/step - loss: 1.2147 - accuracy: 0.6056 - val_loss: 1.2705 - val_accuracy: 0.5250\n",
      "Epoch 22/100\n",
      "17/17 [==============================] - 1s 40ms/step - loss: 1.1645 - accuracy: 0.6250 - val_loss: 1.2325 - val_accuracy: 0.5250\n",
      "Epoch 23/100\n",
      "17/17 [==============================] - 1s 40ms/step - loss: 1.1190 - accuracy: 0.6380 - val_loss: 1.1934 - val_accuracy: 0.5333\n",
      "Epoch 24/100\n",
      "17/17 [==============================] - 1s 39ms/step - loss: 1.0768 - accuracy: 0.6417 - val_loss: 1.1644 - val_accuracy: 0.5500\n",
      "Epoch 25/100\n",
      "17/17 [==============================] - 1s 53ms/step - loss: 1.0359 - accuracy: 0.6676 - val_loss: 1.1365 - val_accuracy: 0.5667\n",
      "Epoch 26/100\n",
      "17/17 [==============================] - 1s 55ms/step - loss: 0.9993 - accuracy: 0.6778 - val_loss: 1.1054 - val_accuracy: 0.5917\n",
      "Epoch 27/100\n",
      "17/17 [==============================] - 1s 51ms/step - loss: 0.9660 - accuracy: 0.6880 - val_loss: 1.0742 - val_accuracy: 0.6250\n",
      "Epoch 28/100\n",
      "17/17 [==============================] - 1s 39ms/step - loss: 0.9348 - accuracy: 0.7019 - val_loss: 1.0482 - val_accuracy: 0.6583\n",
      "Epoch 29/100\n",
      "17/17 [==============================] - 1s 42ms/step - loss: 0.9066 - accuracy: 0.7130 - val_loss: 1.0256 - val_accuracy: 0.6500\n",
      "Epoch 30/100\n",
      "17/17 [==============================] - 1s 55ms/step - loss: 0.8796 - accuracy: 0.7287 - val_loss: 1.0045 - val_accuracy: 0.6750\n",
      "Epoch 31/100\n",
      "17/17 [==============================] - 1s 43ms/step - loss: 0.8546 - accuracy: 0.7398 - val_loss: 0.9847 - val_accuracy: 0.6833\n",
      "Epoch 32/100\n",
      "17/17 [==============================] - 1s 40ms/step - loss: 0.8319 - accuracy: 0.7481 - val_loss: 0.9665 - val_accuracy: 0.6833\n",
      "Epoch 33/100\n",
      "17/17 [==============================] - 1s 46ms/step - loss: 0.8105 - accuracy: 0.7556 - val_loss: 0.9490 - val_accuracy: 0.7000\n",
      "Epoch 34/100\n",
      "17/17 [==============================] - 1s 43ms/step - loss: 0.7925 - accuracy: 0.7593 - val_loss: 0.9328 - val_accuracy: 0.7000\n",
      "Epoch 35/100\n",
      "17/17 [==============================] - 1s 39ms/step - loss: 0.7740 - accuracy: 0.7667 - val_loss: 0.9182 - val_accuracy: 0.7000\n",
      "Epoch 36/100\n",
      "17/17 [==============================] - 1s 39ms/step - loss: 0.7575 - accuracy: 0.7639 - val_loss: 0.9050 - val_accuracy: 0.7000\n",
      "Epoch 37/100\n",
      "17/17 [==============================] - 1s 36ms/step - loss: 0.7416 - accuracy: 0.7713 - val_loss: 0.8924 - val_accuracy: 0.7083\n",
      "Epoch 38/100\n",
      "17/17 [==============================] - 1s 36ms/step - loss: 0.7271 - accuracy: 0.7731 - val_loss: 0.8813 - val_accuracy: 0.7167\n",
      "Epoch 39/100\n",
      "17/17 [==============================] - 1s 37ms/step - loss: 0.7132 - accuracy: 0.7796 - val_loss: 0.8697 - val_accuracy: 0.7167\n",
      "Epoch 40/100\n",
      "17/17 [==============================] - 1s 35ms/step - loss: 0.6998 - accuracy: 0.7769 - val_loss: 0.8594 - val_accuracy: 0.7167\n",
      "Epoch 41/100\n",
      "17/17 [==============================] - 1s 36ms/step - loss: 0.6870 - accuracy: 0.7852 - val_loss: 0.8484 - val_accuracy: 0.7083\n",
      "Epoch 42/100\n",
      "17/17 [==============================] - 1s 38ms/step - loss: 0.6753 - accuracy: 0.7889 - val_loss: 0.8390 - val_accuracy: 0.7083\n",
      "Epoch 43/100\n",
      "17/17 [==============================] - 1s 43ms/step - loss: 0.6637 - accuracy: 0.7898 - val_loss: 0.8311 - val_accuracy: 0.7083\n",
      "Epoch 44/100\n",
      "17/17 [==============================] - 1s 43ms/step - loss: 0.6532 - accuracy: 0.7907 - val_loss: 0.8236 - val_accuracy: 0.7083\n",
      "Epoch 45/100\n",
      "17/17 [==============================] - 1s 48ms/step - loss: 0.6425 - accuracy: 0.7972 - val_loss: 0.8153 - val_accuracy: 0.7083\n",
      "Epoch 46/100\n",
      "17/17 [==============================] - 1s 42ms/step - loss: 0.6324 - accuracy: 0.8000 - val_loss: 0.8078 - val_accuracy: 0.7083\n",
      "Epoch 47/100\n",
      "17/17 [==============================] - 1s 37ms/step - loss: 0.6228 - accuracy: 0.8037 - val_loss: 0.8016 - val_accuracy: 0.7000\n",
      "Epoch 48/100\n",
      "17/17 [==============================] - 1s 40ms/step - loss: 0.6133 - accuracy: 0.8056 - val_loss: 0.7946 - val_accuracy: 0.7000\n",
      "Epoch 49/100\n",
      "17/17 [==============================] - 1s 36ms/step - loss: 0.6047 - accuracy: 0.8139 - val_loss: 0.7892 - val_accuracy: 0.7000\n",
      "Epoch 50/100\n",
      "17/17 [==============================] - 1s 35ms/step - loss: 0.5959 - accuracy: 0.8130 - val_loss: 0.7833 - val_accuracy: 0.7000\n",
      "Epoch 51/100\n",
      "17/17 [==============================] - 1s 37ms/step - loss: 0.5877 - accuracy: 0.8176 - val_loss: 0.7773 - val_accuracy: 0.7000\n",
      "Epoch 52/100\n",
      "17/17 [==============================] - 1s 40ms/step - loss: 0.5794 - accuracy: 0.8176 - val_loss: 0.7685 - val_accuracy: 0.7000\n",
      "Epoch 53/100\n",
      "17/17 [==============================] - 1s 35ms/step - loss: 0.5712 - accuracy: 0.8231 - val_loss: 0.7614 - val_accuracy: 0.7167\n",
      "Epoch 54/100\n",
      "17/17 [==============================] - 1s 36ms/step - loss: 0.5636 - accuracy: 0.8269 - val_loss: 0.7546 - val_accuracy: 0.7250\n",
      "Epoch 55/100\n",
      "17/17 [==============================] - 1s 36ms/step - loss: 0.5563 - accuracy: 0.8287 - val_loss: 0.7508 - val_accuracy: 0.7333\n",
      "Epoch 56/100\n",
      "17/17 [==============================] - 1s 36ms/step - loss: 0.5492 - accuracy: 0.8333 - val_loss: 0.7452 - val_accuracy: 0.7250\n",
      "Epoch 57/100\n",
      "17/17 [==============================] - 1s 37ms/step - loss: 0.5426 - accuracy: 0.8370 - val_loss: 0.7413 - val_accuracy: 0.7167\n",
      "Epoch 58/100\n",
      "17/17 [==============================] - 1s 38ms/step - loss: 0.5359 - accuracy: 0.8370 - val_loss: 0.7363 - val_accuracy: 0.7167\n",
      "Epoch 59/100\n",
      "17/17 [==============================] - 1s 36ms/step - loss: 0.5292 - accuracy: 0.8389 - val_loss: 0.7321 - val_accuracy: 0.7250\n",
      "Epoch 60/100\n",
      "17/17 [==============================] - 1s 36ms/step - loss: 0.5229 - accuracy: 0.8389 - val_loss: 0.7282 - val_accuracy: 0.7333\n",
      "Epoch 61/100\n",
      "17/17 [==============================] - 1s 39ms/step - loss: 0.5168 - accuracy: 0.8407 - val_loss: 0.7236 - val_accuracy: 0.7500\n",
      "Epoch 62/100\n",
      "17/17 [==============================] - 1s 36ms/step - loss: 0.5108 - accuracy: 0.8417 - val_loss: 0.7194 - val_accuracy: 0.7583\n",
      "Epoch 63/100\n",
      "17/17 [==============================] - 1s 35ms/step - loss: 0.5052 - accuracy: 0.8454 - val_loss: 0.7144 - val_accuracy: 0.7583\n",
      "Epoch 64/100\n",
      "17/17 [==============================] - 1s 36ms/step - loss: 0.4996 - accuracy: 0.8454 - val_loss: 0.7112 - val_accuracy: 0.7583\n",
      "Epoch 65/100\n",
      "17/17 [==============================] - 1s 38ms/step - loss: 0.4943 - accuracy: 0.8481 - val_loss: 0.7073 - val_accuracy: 0.7667\n",
      "Epoch 66/100\n",
      "17/17 [==============================] - 1s 36ms/step - loss: 0.4887 - accuracy: 0.8481 - val_loss: 0.7033 - val_accuracy: 0.7667\n",
      "Epoch 67/100\n",
      "17/17 [==============================] - 1s 35ms/step - loss: 0.4832 - accuracy: 0.8509 - val_loss: 0.6992 - val_accuracy: 0.7667\n",
      "Epoch 68/100\n",
      "17/17 [==============================] - 1s 51ms/step - loss: 0.4783 - accuracy: 0.8528 - val_loss: 0.6964 - val_accuracy: 0.7667\n",
      "Epoch 69/100\n",
      "17/17 [==============================] - 1s 42ms/step - loss: 0.4730 - accuracy: 0.8546 - val_loss: 0.6923 - val_accuracy: 0.7667\n",
      "Epoch 70/100\n",
      "17/17 [==============================] - 1s 36ms/step - loss: 0.4680 - accuracy: 0.8565 - val_loss: 0.6893 - val_accuracy: 0.7667\n",
      "Epoch 71/100\n",
      "17/17 [==============================] - 1s 37ms/step - loss: 0.4631 - accuracy: 0.8583 - val_loss: 0.6861 - val_accuracy: 0.7667\n",
      "Epoch 72/100\n",
      "17/17 [==============================] - 1s 37ms/step - loss: 0.4582 - accuracy: 0.8602 - val_loss: 0.6824 - val_accuracy: 0.7667\n",
      "Epoch 73/100\n",
      "17/17 [==============================] - 1s 38ms/step - loss: 0.4538 - accuracy: 0.8639 - val_loss: 0.6801 - val_accuracy: 0.7667\n",
      "Epoch 74/100\n",
      "17/17 [==============================] - 1s 38ms/step - loss: 0.4494 - accuracy: 0.8648 - val_loss: 0.6772 - val_accuracy: 0.7667\n",
      "Epoch 75/100\n",
      "17/17 [==============================] - 1s 37ms/step - loss: 0.4450 - accuracy: 0.8667 - val_loss: 0.6782 - val_accuracy: 0.7667\n",
      "Epoch 76/100\n",
      "17/17 [==============================] - 1s 38ms/step - loss: 0.4397 - accuracy: 0.8676 - val_loss: 0.6705 - val_accuracy: 0.7667\n",
      "Epoch 77/100\n",
      "17/17 [==============================] - 1s 38ms/step - loss: 0.4353 - accuracy: 0.8694 - val_loss: 0.6700 - val_accuracy: 0.7667\n",
      "Epoch 78/100\n",
      "17/17 [==============================] - 1s 36ms/step - loss: 0.4311 - accuracy: 0.8704 - val_loss: 0.6677 - val_accuracy: 0.7667\n",
      "Epoch 79/100\n",
      "17/17 [==============================] - 1s 37ms/step - loss: 0.4267 - accuracy: 0.8704 - val_loss: 0.6609 - val_accuracy: 0.7667\n",
      "Epoch 80/100\n",
      "17/17 [==============================] - 1s 43ms/step - loss: 0.4228 - accuracy: 0.8731 - val_loss: 0.6632 - val_accuracy: 0.7750\n",
      "Epoch 81/100\n",
      "17/17 [==============================] - 1s 42ms/step - loss: 0.4186 - accuracy: 0.8741 - val_loss: 0.6578 - val_accuracy: 0.7750\n",
      "Epoch 82/100\n",
      "17/17 [==============================] - 1s 38ms/step - loss: 0.4143 - accuracy: 0.8750 - val_loss: 0.6517 - val_accuracy: 0.7833\n",
      "Epoch 83/100\n",
      "17/17 [==============================] - 1s 40ms/step - loss: 0.4109 - accuracy: 0.8741 - val_loss: 0.6562 - val_accuracy: 0.7750\n",
      "Epoch 84/100\n",
      "17/17 [==============================] - 1s 37ms/step - loss: 0.4066 - accuracy: 0.8769 - val_loss: 0.6511 - val_accuracy: 0.7750\n",
      "Epoch 85/100\n",
      "17/17 [==============================] - 1s 46ms/step - loss: 0.4023 - accuracy: 0.8759 - val_loss: 0.6423 - val_accuracy: 0.7833\n",
      "Epoch 86/100\n",
      "17/17 [==============================] - 1s 39ms/step - loss: 0.3991 - accuracy: 0.8787 - val_loss: 0.6475 - val_accuracy: 0.7750\n",
      "Epoch 87/100\n",
      "17/17 [==============================] - 1s 39ms/step - loss: 0.3952 - accuracy: 0.8796 - val_loss: 0.6405 - val_accuracy: 0.7833\n",
      "Epoch 88/100\n",
      "17/17 [==============================] - 1s 37ms/step - loss: 0.3911 - accuracy: 0.8806 - val_loss: 0.6403 - val_accuracy: 0.7833\n",
      "Epoch 89/100\n",
      "17/17 [==============================] - 1s 42ms/step - loss: 0.3874 - accuracy: 0.8806 - val_loss: 0.6346 - val_accuracy: 0.7833\n",
      "Epoch 90/100\n",
      "17/17 [==============================] - 1s 41ms/step - loss: 0.3836 - accuracy: 0.8824 - val_loss: 0.6354 - val_accuracy: 0.7833\n",
      "Epoch 91/100\n",
      "17/17 [==============================] - 1s 42ms/step - loss: 0.3803 - accuracy: 0.8815 - val_loss: 0.6296 - val_accuracy: 0.7833\n",
      "Epoch 92/100\n",
      "17/17 [==============================] - 1s 45ms/step - loss: 0.3767 - accuracy: 0.8833 - val_loss: 0.6313 - val_accuracy: 0.7833\n",
      "Epoch 93/100\n",
      "17/17 [==============================] - 1s 52ms/step - loss: 0.3733 - accuracy: 0.8833 - val_loss: 0.6272 - val_accuracy: 0.7833\n",
      "Epoch 94/100\n",
      "17/17 [==============================] - 1s 43ms/step - loss: 0.3698 - accuracy: 0.8843 - val_loss: 0.6231 - val_accuracy: 0.7833\n",
      "Epoch 95/100\n",
      "17/17 [==============================] - 1s 43ms/step - loss: 0.3666 - accuracy: 0.8833 - val_loss: 0.6247 - val_accuracy: 0.7833\n",
      "Epoch 96/100\n",
      "17/17 [==============================] - 1s 44ms/step - loss: 0.3635 - accuracy: 0.8833 - val_loss: 0.6172 - val_accuracy: 0.7833\n",
      "Epoch 97/100\n",
      "17/17 [==============================] - 1s 47ms/step - loss: 0.3602 - accuracy: 0.8861 - val_loss: 0.6203 - val_accuracy: 0.7833\n",
      "Epoch 98/100\n",
      "17/17 [==============================] - 1s 42ms/step - loss: 0.3570 - accuracy: 0.8843 - val_loss: 0.6162 - val_accuracy: 0.7833\n",
      "Epoch 99/100\n",
      "17/17 [==============================] - 1s 37ms/step - loss: 0.3535 - accuracy: 0.8889 - val_loss: 0.6141 - val_accuracy: 0.7917\n",
      "Epoch 100/100\n",
      "17/17 [==============================] - 1s 45ms/step - loss: 0.3506 - accuracy: 0.8880 - val_loss: 0.6119 - val_accuracy: 0.8000\n"
     ]
    }
   ],
   "source": [
    "train_dataset = tf.data.Dataset.from_tensor_slices((X_train, Y_train)).batch(64)\n",
    "test_dataset = tf.data.Dataset.from_tensor_slices((X_test, Y_test)).batch(64)\n",
    "history = conv_model.fit(train_dataset, epochs=100, validation_data=test_dataset)"
   ]
  },
  {
   "cell_type": "code",
   "execution_count": 21,
   "id": "5feeae69",
   "metadata": {},
   "outputs": [
    {
     "name": "stderr",
     "output_type": "stream",
     "text": [
      "/usr/local/lib/python3.8/dist-packages/pandas/core/frame.py:5034: SettingWithCopyWarning: \n",
      "A value is trying to be set on a copy of a slice from a DataFrame\n",
      "\n",
      "See the caveats in the documentation: https://pandas.pydata.org/pandas-docs/stable/user_guide/indexing.html#returning-a-view-versus-a-copy\n",
      "  return super().rename(\n"
     ]
    },
    {
     "data": {
      "text/plain": [
       "[Text(0, 0.5, 'Accuracy'), Text(0.5, 0, 'Epoch')]"
      ]
     },
     "execution_count": 21,
     "metadata": {},
     "output_type": "execute_result"
    },
    {
     "data": {
      "image/png": "[encoded data removed]",
      "text/plain": [
       "<Figure size 864x576 with 1 Axes>"
      ]
     },
     "metadata": {
      "needs_background": "light"
     },
     "output_type": "display_data"
    },
    {
     "data": {
      "image/png": "[encoded data removed]",
      "text/plain": [
       "<Figure size 864x576 with 1 Axes>"
      ]
     },
     "metadata": {
      "needs_background": "light"
     },
     "output_type": "display_data"
    }
   ],
   "source": [
    "df_loss_acc = pd.DataFrame(history.history)\n",
    "df_loss= df_loss_acc[['loss','val_loss']]\n",
    "df_loss.rename(columns={'loss':'train','val_loss':'validation'},inplace=True)\n",
    "df_acc= df_loss_acc[['accuracy','val_accuracy']]\n",
    "df_acc.rename(columns={'accuracy':'train','val_accuracy':'validation'},inplace=True)\n",
    "df_loss.plot(title='Model loss',figsize=(12,8)).set(xlabel='Epoch',ylabel='Loss')\n",
    "df_acc.plot(title='Model Accuracy',figsize=(12,8)).set(xlabel='Epoch',ylabel='Accuracy')"
   ]
  },
  {
   "cell_type": "code",
   "execution_count": null,
   "id": "6a933095",
   "metadata": {},
   "outputs": [],
   "source": []
  }
 ],
 "metadata": {
  "kernelspec": {
   "display_name": "Python 3 (ipykernel)",
   "language": "python",
   "name": "python3"
  },
  "language_info": {
   "codemirror_mode": {
    "name": "ipython",
    "version": 3
   },
   "file_extension": ".py",
   "mimetype": "text/x-python",
   "name": "python",
   "nbconvert_exporter": "python",
   "pygments_lexer": "ipython3",
   "version": "3.8.10"
  }
 },
 "nbformat": 4,
 "nbformat_minor": 5
}
